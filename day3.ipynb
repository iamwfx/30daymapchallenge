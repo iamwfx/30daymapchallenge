{
 "cells": [
  {
   "cell_type": "code",
   "execution_count": 92,
   "metadata": {},
   "outputs": [],
   "source": [
    "import pandas as pd\n",
    "import geopandas as gpd\n",
    "import geocoder\n",
    "import numpy as np\n",
    "from shapely.geometry import Point"
   ]
  },
  {
   "cell_type": "markdown",
   "metadata": {},
   "source": [
    "Election districts"
   ]
  },
  {
   "cell_type": "code",
   "execution_count": 128,
   "metadata": {},
   "outputs": [],
   "source": [
    "ed = gpd.read_file('day3/Election Districts.geojson')"
   ]
  },
  {
   "cell_type": "code",
   "execution_count": 173,
   "metadata": {},
   "outputs": [],
   "source": [
    "ed['elect_dist_new'] = ed.elect_dist.apply(lambda x: int(x[2:]))"
   ]
  },
  {
   "cell_type": "markdown",
   "metadata": {},
   "source": [
    "Election District to Pollsite table"
   ]
  },
  {
   "cell_type": "code",
   "execution_count": 107,
   "metadata": {},
   "outputs": [],
   "source": [
    "ed_pollsite = pd.read_csv('day3/Election_District_Poll_Sites.csv')"
   ]
  },
  {
   "cell_type": "code",
   "execution_count": 264,
   "metadata": {},
   "outputs": [],
   "source": [
    "site_ED  = ed_pollsite.groupby('SITE_NUMBER')['ED'].apply(list)"
   ]
  },
  {
   "cell_type": "code",
   "execution_count": 135,
   "metadata": {},
   "outputs": [],
   "source": [
    "ed1 = ed.merge(ed_pollsite,left_on='elect_dist_new',right_on='ED')"
   ]
  },
  {
   "cell_type": "markdown",
   "metadata": {},
   "source": [
    "Pollsites"
   ]
  },
  {
   "cell_type": "code",
   "execution_count": 4,
   "metadata": {},
   "outputs": [],
   "source": [
    "pollsites = pd.read_csv('day3/Voting_Poll_Sites.csv')"
   ]
  },
  {
   "cell_type": "code",
   "execution_count": 22,
   "metadata": {},
   "outputs": [],
   "source": [
    "pollsites['STREET_NUMBER_new'] = pollsites['STREET_NUMBER'].apply(lambda x: x.split(\".\")[0])"
   ]
  },
  {
   "cell_type": "code",
   "execution_count": 26,
   "metadata": {},
   "outputs": [],
   "source": [
    "pollsites['VOTER_ENTRANCE_new'] = pollsites.apply(lambda x: x['STREET_NUMBER_new']+\" \"+x['STREET_NAME']+\" \"+x['CITY']+\" \"+x['POSTCODE'],axis=1)\n",
    "pollsites['HANDICAP_ENTRANCE_new'] = pollsites.apply(lambda x: x['HANDICAP_ENTRANCE']+\" \"+x['CITY']+\" \"+x['POSTCODE'],axis=1)"
   ]
  },
  {
   "cell_type": "code",
   "execution_count": 51,
   "metadata": {},
   "outputs": [
    {
     "name": "stderr",
     "output_type": "stream",
     "text": [
      "Status code 404 from https://api.mapbox.com/geocoding/v5/mapbox.places/2nd Ave (Through walkway / Parking Lot) New York 10029.json: ERROR - 404 Client Error: Not Found for url: https://api.mapbox.com/geocoding/v5/mapbox.places/2nd%20Ave%20(Through%20walkway%20/%20Parking%20Lot)%20New%20York%2010029.json?access_token=pk.eyJ1IjoiaWFtd2Z4IiwiYSI6ImNqN2wyd3dsaDB1aTcycXJyM2s5ZGE1djgifQ.6brfpSfTpw_B_pCNxXCO-A\n",
      "Status code 404 from https://api.mapbox.com/geocoding/v5/mapbox.places/Essex Street (Through Walkway / Parking Lot) New York 10002.json: ERROR - 404 Client Error: Not Found for url: https://api.mapbox.com/geocoding/v5/mapbox.places/Essex%20Street%20(Through%20Walkway%20/%20Parking%20Lot)%20New%20York%2010002.json?access_token=pk.eyJ1IjoiaWFtd2Z4IiwiYSI6ImNqN2wyd3dsaDB1aTcycXJyM2s5ZGE1djgifQ.6brfpSfTpw_B_pCNxXCO-A\n",
      "Status code 403 from https://api.mapbox.com/geocoding/v5/mapbox.places/Enter near corner of Adee & Eastchester; take elevator Bronx 10469.json: ERROR - 403 Client Error: Forbidden for url: https://api.mapbox.com/geocoding/v5/mapbox.places/Enter%20near%20corner%20of%20Adee%20&%20Eastchester;%20take%20elevator%20Bronx%2010469.json?access_token=pk.eyJ1IjoiaWFtd2Z4IiwiYSI6ImNqN2wyd3dsaDB1aTcycXJyM2s5ZGE1djgifQ.6brfpSfTpw_B_pCNxXCO-A\n",
      "Status code 403 from https://api.mapbox.com/geocoding/v5/mapbox.places/On Beach Avenue; Cafeteria 1 Bronx 10472.json: ERROR - 403 Client Error: Forbidden for url: https://api.mapbox.com/geocoding/v5/mapbox.places/On%20Beach%20Avenue;%20Cafeteria%201%20Bronx%2010472.json?access_token=pk.eyJ1IjoiaWFtd2Z4IiwiYSI6ImNqN2wyd3dsaDB1aTcycXJyM2s5ZGE1djgifQ.6brfpSfTpw_B_pCNxXCO-A\n",
      "Status code 403 from https://api.mapbox.com/geocoding/v5/mapbox.places/2nd Olinville Ave Entrance; Right of Magenta Ave Bronx 10467.json: ERROR - 403 Client Error: Forbidden for url: https://api.mapbox.com/geocoding/v5/mapbox.places/2nd%20Olinville%20Ave%20Entrance;%20Right%20of%20Magenta%20Ave%20Bronx%2010467.json?access_token=pk.eyJ1IjoiaWFtd2Z4IiwiYSI6ImNqN2wyd3dsaDB1aTcycXJyM2s5ZGE1djgifQ.6brfpSfTpw_B_pCNxXCO-A\n",
      "Status code 403 from https://api.mapbox.com/geocoding/v5/mapbox.places/Exit 1; left of main ent; on corner of Evelyn Pl Bronx 10468.json: ERROR - 403 Client Error: Forbidden for url: https://api.mapbox.com/geocoding/v5/mapbox.places/Exit%201;%20left%20of%20main%20ent;%20on%20corner%20of%20Evelyn%20Pl%20Bronx%2010468.json?access_token=pk.eyJ1IjoiaWFtd2Z4IiwiYSI6ImNqN2wyd3dsaDB1aTcycXJyM2s5ZGE1djgifQ.6brfpSfTpw_B_pCNxXCO-A\n",
      "Status code 403 from https://api.mapbox.com/geocoding/v5/mapbox.places/Entrance on Edison Avenue; Left Side poll room Bronx 10465.json: ERROR - 403 Client Error: Forbidden for url: https://api.mapbox.com/geocoding/v5/mapbox.places/Entrance%20on%20Edison%20Avenue;%20Left%20Side%20poll%20room%20Bronx%2010465.json?access_token=pk.eyJ1IjoiaWFtd2Z4IiwiYSI6ImNqN2wyd3dsaDB1aTcycXJyM2s5ZGE1djgifQ.6brfpSfTpw_B_pCNxXCO-A\n",
      "Status code 403 from https://api.mapbox.com/geocoding/v5/mapbox.places/Bldg D on E.149th Street and Walton Avenue; Room 202 Bronx 10451.json: ERROR - 403 Client Error: Forbidden for url: https://api.mapbox.com/geocoding/v5/mapbox.places/Bldg%20D%20on%20E.149th%20Street%20and%20Walton%20Avenue;%20Room%20202%20Bronx%2010451.json?access_token=pk.eyJ1IjoiaWFtd2Z4IiwiYSI6ImNqN2wyd3dsaDB1aTcycXJyM2s5ZGE1djgifQ.6brfpSfTpw_B_pCNxXCO-A\n",
      "Status code 403 from https://api.mapbox.com/geocoding/v5/mapbox.places/1551 East 172 Street; take elevators Bronx 10472.json: ERROR - 403 Client Error: Forbidden for url: https://api.mapbox.com/geocoding/v5/mapbox.places/1551%20East%20172%20Street;%20take%20elevators%20Bronx%2010472.json?access_token=pk.eyJ1IjoiaWFtd2Z4IiwiYSI6ImNqN2wyd3dsaDB1aTcycXJyM2s5ZGE1djgifQ.6brfpSfTpw_B_pCNxXCO-A\n",
      "Status code 403 from https://api.mapbox.com/geocoding/v5/mapbox.places/Lower Ent next to Main Steps; Take elevator to 2nd Flr Bronx 10453.json: ERROR - 403 Client Error: Forbidden for url: https://api.mapbox.com/geocoding/v5/mapbox.places/Lower%20Ent%20next%20to%20Main%20Steps;%20Take%20elevator%20to%202nd%20Flr%20Bronx%2010453.json?access_token=pk.eyJ1IjoiaWFtd2Z4IiwiYSI6ImNqN2wyd3dsaDB1aTcycXJyM2s5ZGE1djgifQ.6brfpSfTpw_B_pCNxXCO-A\n",
      "Status code 404 from https://api.mapbox.com/geocoding/v5/mapbox.places/School Exit #12 on Goulden Avenue Bronx 10468.json: ERROR - 404 Client Error: Not Found for url: https://api.mapbox.com/geocoding/v5/mapbox.places/School%20Exit%20?access_token=pk.eyJ1IjoiaWFtd2Z4IiwiYSI6ImNqN2wyd3dsaDB1aTcycXJyM2s5ZGE1djgifQ.6brfpSfTpw_B_pCNxXCO-A#12%20on%20Goulden%20Avenue%20Bronx%2010468.json\n",
      "Status code 404 from https://api.mapbox.com/geocoding/v5/mapbox.places/W 211th St/Vermilyea Ave (Through Playard) New York 10034.json: ERROR - 404 Client Error: Not Found for url: https://api.mapbox.com/geocoding/v5/mapbox.places/W%20211th%20St/Vermilyea%20Ave%20(Through%20Playard)%20New%20York%2010034.json?access_token=pk.eyJ1IjoiaWFtd2Z4IiwiYSI6ImNqN2wyd3dsaDB1aTcycXJyM2s5ZGE1djgifQ.6brfpSfTpw_B_pCNxXCO-A\n",
      "Status code 403 from https://api.mapbox.com/geocoding/v5/mapbox.places/3856 Bronx Blvd; take elevator to 1st FL Recreation Room Bronx 10467.json: ERROR - 403 Client Error: Forbidden for url: https://api.mapbox.com/geocoding/v5/mapbox.places/3856%20Bronx%20Blvd;%20take%20elevator%20to%201st%20FL%20Recreation%20Room%20Bronx%2010467.json?access_token=pk.eyJ1IjoiaWFtd2Z4IiwiYSI6ImNqN2wyd3dsaDB1aTcycXJyM2s5ZGE1djgifQ.6brfpSfTpw_B_pCNxXCO-A\n"
     ]
    }
   ],
   "source": [
    "pollsites['latlng'] = pollsites.apply(lambda x: geocoder.mapbox(x['VOTER_ENTRANCE_new'],\n",
    "                                                                key='INSERT KEY').latlng,axis=1)\n",
    "pollsites['latlng_handicap'] = pollsites.apply(lambda x: geocoder.mapbox(x['HANDICAP_ENTRANCE_new'],\n",
    "                                                                key='INSERT KEY').latlng,axis=1)"
   ]
  },
  {
   "cell_type": "code",
   "execution_count": 79,
   "metadata": {},
   "outputs": [],
   "source": [
    "pollsites['lat'] = pollsites['latlng'].apply(lambda x: x[0])\n",
    "pollsites['lng'] = pollsites['latlng'].apply(lambda x: x[1])\n",
    "pollsites['lat_h'] = pollsites['latlng_handicap'].apply(lambda x: x[0] if x is not None else np.nan)\n",
    "pollsites['lng_h'] = pollsites['latlng_handicap'].apply(lambda x: x[1] if x is not None else np.nan)"
   ]
  },
  {
   "cell_type": "code",
   "execution_count": 81,
   "metadata": {},
   "outputs": [],
   "source": [
    "voter_sites = pollsites[['BOROUGH','SITE_STATUS','SITE_NAME','SITE_NUMBER','VOTER_ENTRANCE_new','lng','lat']].rename(columns={'VOTER_ENTRANCE_new':'Entrance'})\n",
    "voter_sites['Entrance_Type'] = 'Voter'\n",
    "handicap_sites = pollsites[['BOROUGH','SITE_STATUS','SITE_NAME','SITE_NUMBER','HANDICAP_ENTRANCE_new','lng_h','lat_h']].rename(columns={'HANDICAP_ENTRANCE_new':'Entrance',\n",
    "                                                                                                                                       'lng_h':'lng',\n",
    "                                                                                                                                        'lat_h':'lat'})\n",
    "handicap_sites['Entrance_Type'] = 'Handicap'"
   ]
  },
  {
   "cell_type": "code",
   "execution_count": 229,
   "metadata": {},
   "outputs": [
    {
     "data": {
      "text/plain": [
       "(2462, 9)"
      ]
     },
     "execution_count": 229,
     "metadata": {},
     "output_type": "execute_result"
    }
   ],
   "source": [
    "pollsites_new.shape"
   ]
  },
  {
   "cell_type": "code",
   "execution_count": 218,
   "metadata": {},
   "outputs": [],
   "source": [
    "pollsites_new = pd.concat([voter_sites,handicap_sites])"
   ]
  },
  {
   "cell_type": "markdown",
   "metadata": {},
   "source": [
    "Join sites to ED "
   ]
  },
  {
   "cell_type": "code",
   "execution_count": 227,
   "metadata": {},
   "outputs": [],
   "source": [
    "pollsites_new2 = pd.merge(pollsites_new,ed_pollsite[['SITE_NUMBER','ED']],on='SITE_NUMBER',how='left')"
   ]
  },
  {
   "cell_type": "code",
   "execution_count": 191,
   "metadata": {},
   "outputs": [],
   "source": [
    "import seaborn as sns\n",
    "from colormap import rgb2hex\n",
    "\n",
    "sites = pollsites_new['ED'].unique()\n",
    "palette = iter(sns.husl_palette(len(sites)))\n"
   ]
  },
  {
   "cell_type": "code",
   "execution_count": 202,
   "metadata": {},
   "outputs": [],
   "source": [
    "palette = list(iter(sns.husl_palette(len(sites))))"
   ]
  },
  {
   "cell_type": "code",
   "execution_count": 215,
   "metadata": {},
   "outputs": [
    {
     "data": {
      "text/plain": [
       "[(76, '#F67088'),\n",
       " (15, '#F67181'),\n",
       " (67, '#F6727A'),\n",
       " (16, '#F77272'),\n",
       " (12, '#F77369'),\n",
       " (14, '#F7745F'),\n",
       " (79, '#F77553'),\n",
       " (13, '#F77543'),\n",
       " (40, '#F67732'),\n",
       " (83, '#EF7C32'),\n",
       " (43, '#E98031'),\n",
       " (41, '#E38431'),\n",
       " (86, '#DE8731'),\n",
       " (84, '#D98931'),\n",
       " (103, '#D58C31'),\n",
       " (95, '#D18E31'),\n",
       " (2, '#CD9031'),\n",
       " (4, '#C99131'),\n",
       " (5, '#C59331'),\n",
       " (1, '#C29531'),\n",
       " (77, '#BE9631'),\n",
       " (72, '#BB9731'),\n",
       " (113, '#B89931'),\n",
       " (73, '#B49A31'),\n",
       " (20, '#B19B31'),\n",
       " (42, '#AE9C31'),\n",
       " (44, '#AA9D31'),\n",
       " (37, '#A79E31'),\n",
       " (46, '#A39F31'),\n",
       " (33, '#A0A131'),\n",
       " (6, '#9CA231'),\n",
       " (85, '#98A331'),\n",
       " (62, '#94A431'),\n",
       " (36, '#90A531'),\n",
       " (55, '#8CA631'),\n",
       " (115, '#87A731'),\n",
       " (8, '#82A831'),\n",
       " (7, '#7CA931'),\n",
       " (9, '#76AB31'),\n",
       " (3, '#6EAC31'),\n",
       " (75, '#66AD31'),\n",
       " (18, '#5CAF31'),\n",
       " (66, '#4FB031'),\n",
       " (104, '#3EB231'),\n",
       " (63, '#31B33B'),\n",
       " (32, '#31B24D'),\n",
       " (107, '#32B15A'),\n",
       " (51, '#32B163'),\n",
       " (52, '#32B16B'),\n",
       " (17, '#32B072'),\n",
       " (53, '#33B078'),\n",
       " (24, '#33AF7D'),\n",
       " (80, '#33AF81'),\n",
       " (49, '#33AF86'),\n",
       " (47, '#34AF89'),\n",
       " (48, '#34AE8D'),\n",
       " (22, '#34AE90'),\n",
       " (50, '#34AE93'),\n",
       " (88, '#34AD96'),\n",
       " (89, '#35AD99'),\n",
       " (112, '#35AD9C'),\n",
       " (82, '#35AD9E'),\n",
       " (57, '#35ACA1'),\n",
       " (56, '#35ACA4'),\n",
       " (119, '#35ACA6'),\n",
       " (38, '#35ACA8'),\n",
       " (39, '#36ABAB'),\n",
       " (74, '#36ABAD'),\n",
       " (23, '#36ABB0'),\n",
       " (68, '#36ABB2'),\n",
       " (26, '#36AAB5'),\n",
       " (65, '#37AAB7'),\n",
       " (81, '#37AABA'),\n",
       " (30, '#37A9BD'),\n",
       " (29, '#37A9C0'),\n",
       " (28, '#37A9C3'),\n",
       " (64, '#38A8C6'),\n",
       " (35, '#38A8C9'),\n",
       " (34, '#38A7CD'),\n",
       " (45, '#39A7D1'),\n",
       " (21, '#39A6D5'),\n",
       " (11, '#39A5DA'),\n",
       " (59, '#3AA5DF'),\n",
       " (60, '#3AA4E5'),\n",
       " (27, '#3BA3EC'),\n",
       " (70, '#3CA1F3'),\n",
       " (92, '#4F9FF4'),\n",
       " (105, '#5F9DF4'),\n",
       " (78, '#6C9BF4'),\n",
       " (54, '#7798F4'),\n",
       " (96, '#8096F4'),\n",
       " (31, '#8994F4'),\n",
       " (19, '#9192F4'),\n",
       " (61, '#998FF4'),\n",
       " (93, '#A08DF4'),\n",
       " (100, '#A78AF4'),\n",
       " (108, '#AD88F4'),\n",
       " (101, '#B485F4'),\n",
       " (102, '#BA82F4'),\n",
       " (114, '#C07FF4'),\n",
       " (69, '#C77CF4'),\n",
       " (58, '#CD78F4'),\n",
       " (71, '#D375F4'),\n",
       " (90, '#DA70F4'),\n",
       " (110, '#E06BF4'),\n",
       " (10, '#E766F4'),\n",
       " (25, '#EE60F4'),\n",
       " (87, '#F45BF2'),\n",
       " (111, '#F45DEB'),\n",
       " (106, '#F45FE4'),\n",
       " (94, '#F460DE'),\n",
       " (91, '#F562D9'),\n",
       " (99, '#F563D3'),\n",
       " (97, '#F564CE'),\n",
       " (117, '#F566C9'),\n",
       " (125, '#F567C4'),\n",
       " (118, '#F568BF'),\n",
       " (124, '#F569BA'),\n",
       " (109, '#F569B5'),\n",
       " (116, '#F66AB0'),\n",
       " (98, '#F66BAB'),\n",
       " (126, '#F66CA6'),\n",
       " (120, '#F66DA1'),\n",
       " (122, '#F66E9C'),\n",
       " (121, '#F66E96'),\n",
       " (123, '#F66F8E')]"
      ]
     },
     "execution_count": 215,
     "metadata": {},
     "output_type": "execute_result"
    }
   ],
   "source": [
    "list(zip(sites,[rgb2hex(int(x[0]*255),int(x[1]*255),int(x[2]*255)) for x in list(palette)]))"
   ]
  },
  {
   "cell_type": "code",
   "execution_count": 234,
   "metadata": {},
   "outputs": [
    {
     "data": {
      "text/plain": [
       "Index(['BOROUGH', 'SITE_STATUS', 'SITE_NAME', 'SITE_NUMBER', 'Entrance', 'lng',\n",
       "       'lat', 'Entrance_Type', 'geometry'],\n",
       "      dtype='object')"
      ]
     },
     "execution_count": 234,
     "metadata": {},
     "output_type": "execute_result"
    }
   ],
   "source": [
    "pollsites_new.sort_values('SITE_NUMBER').columns"
   ]
  },
  {
   "cell_type": "code",
   "execution_count": 235,
   "metadata": {},
   "outputs": [],
   "source": [
    "pollsites_new[['BOROUGH', 'SITE_STATUS', 'SITE_NAME', 'SITE_NUMBER', 'Entrance', 'lng',\n",
    "       'lat', 'Entrance_Type']].to_csv('day3/Voting_Poll_Sites_new.csv')"
   ]
  },
  {
   "cell_type": "code",
   "execution_count": 94,
   "metadata": {},
   "outputs": [],
   "source": [
    "voter_sites_geom = gpd.GeoDataFrame(voter_sites,geometry=gpd.points_from_xy(voter_sites.lng, voter_sites.lat),crs=\"EPSG:4326\")"
   ]
  },
  {
   "cell_type": "code",
   "execution_count": 99,
   "metadata": {},
   "outputs": [],
   "source": [
    "# ed_new = gpd.sjoin(voter_sites_geom[['SITE_NUMBER','geometry']],ed,how='right',op='intersects')"
   ]
  },
  {
   "cell_type": "code",
   "execution_count": 150,
   "metadata": {},
   "outputs": [],
   "source": [
    "# voter_sites_geom['SITE_NUMBER'] = voter_sites_geom['SITE_NUMBER'].astype(str)\n",
    "# ed1['SITE_NUMBER'] = ed1['SITE_NUMBER'].astype(str)"
   ]
  },
  {
   "cell_type": "code",
   "execution_count": 261,
   "metadata": {},
   "outputs": [],
   "source": [
    "ed.rename(columns={'elect_dist_new':'ED'}).to_file('day3/ElectionDistricsNew.geojson',driver='GeoJSON')"
   ]
  },
  {
   "cell_type": "code",
   "execution_count": 266,
   "metadata": {},
   "outputs": [
    {
     "data": {
      "text/html": [
       "<div>\n",
       "<style scoped>\n",
       "    .dataframe tbody tr th:only-of-type {\n",
       "        vertical-align: middle;\n",
       "    }\n",
       "\n",
       "    .dataframe tbody tr th {\n",
       "        vertical-align: top;\n",
       "    }\n",
       "\n",
       "    .dataframe thead th {\n",
       "        text-align: right;\n",
       "    }\n",
       "</style>\n",
       "<table border=\"1\" class=\"dataframe\">\n",
       "  <thead>\n",
       "    <tr style=\"text-align: right;\">\n",
       "      <th></th>\n",
       "      <th>SITE_NUMBER</th>\n",
       "      <th>ED</th>\n",
       "    </tr>\n",
       "  </thead>\n",
       "  <tbody>\n",
       "    <tr>\n",
       "      <th>0</th>\n",
       "      <td>00001</td>\n",
       "      <td>[87, 98, 96]</td>\n",
       "    </tr>\n",
       "    <tr>\n",
       "      <th>1</th>\n",
       "      <td>00007</td>\n",
       "      <td>[27, 30, 31, 26, 106]</td>\n",
       "    </tr>\n",
       "    <tr>\n",
       "      <th>2</th>\n",
       "      <td>00009</td>\n",
       "      <td>[2, 3, 5, 4]</td>\n",
       "    </tr>\n",
       "    <tr>\n",
       "      <th>3</th>\n",
       "      <td>00012</td>\n",
       "      <td>[90, 2, 3, 4, 1, 5, 10, 7, 6, 11, 9, 72, 115, 83]</td>\n",
       "    </tr>\n",
       "    <tr>\n",
       "      <th>4</th>\n",
       "      <td>00013</td>\n",
       "      <td>[81, 79, 80, 82]</td>\n",
       "    </tr>\n",
       "    <tr>\n",
       "      <th>...</th>\n",
       "      <td>...</td>\n",
       "      <td>...</td>\n",
       "    </tr>\n",
       "    <tr>\n",
       "      <th>1226</th>\n",
       "      <td>X0229</td>\n",
       "      <td>[5, 4]</td>\n",
       "    </tr>\n",
       "    <tr>\n",
       "      <th>1227</th>\n",
       "      <td>X0231</td>\n",
       "      <td>[12, 13]</td>\n",
       "    </tr>\n",
       "    <tr>\n",
       "      <th>1228</th>\n",
       "      <td>X0234</td>\n",
       "      <td>[79, 82, 86, 83, 65, 78, 84, 87, 85]</td>\n",
       "    </tr>\n",
       "    <tr>\n",
       "      <th>1229</th>\n",
       "      <td>X0235</td>\n",
       "      <td>[3]</td>\n",
       "    </tr>\n",
       "    <tr>\n",
       "      <th>1230</th>\n",
       "      <td>X0237</td>\n",
       "      <td>[62, 64]</td>\n",
       "    </tr>\n",
       "  </tbody>\n",
       "</table>\n",
       "<p>1231 rows × 2 columns</p>\n",
       "</div>"
      ],
      "text/plain": [
       "     SITE_NUMBER                                                 ED\n",
       "0          00001                                       [87, 98, 96]\n",
       "1          00007                              [27, 30, 31, 26, 106]\n",
       "2          00009                                       [2, 3, 5, 4]\n",
       "3          00012  [90, 2, 3, 4, 1, 5, 10, 7, 6, 11, 9, 72, 115, 83]\n",
       "4          00013                                   [81, 79, 80, 82]\n",
       "...          ...                                                ...\n",
       "1226       X0229                                             [5, 4]\n",
       "1227       X0231                                           [12, 13]\n",
       "1228       X0234               [79, 82, 86, 83, 65, 78, 84, 87, 85]\n",
       "1229       X0235                                                [3]\n",
       "1230       X0237                                           [62, 64]\n",
       "\n",
       "[1231 rows x 2 columns]"
      ]
     },
     "execution_count": 266,
     "metadata": {},
     "output_type": "execute_result"
    }
   ],
   "source": [
    "site_ED.reset_index()"
   ]
  },
  {
   "cell_type": "code",
   "execution_count": 275,
   "metadata": {},
   "outputs": [],
   "source": [
    "pollsites_new2 = pd.merge(pollsites_new,site_ED.reset_index().rename(columns={'ED':\"All_Election_Districts\"}),on='SITE_NUMBER')\n",
    "pollsites_new2[['BOROUGH', 'SITE_STATUS', 'SITE_NAME', 'SITE_NUMBER', 'Entrance', 'lng',\n",
    "       'lat', 'Entrance_Type', 'All_Election_Districts']].to_csv('day3/Voting_Poll_Sites_new.csv')"
   ]
  },
  {
   "cell_type": "code",
   "execution_count": 276,
   "metadata": {},
   "outputs": [
    {
     "data": {
      "text/html": [
       "<div>\n",
       "<style scoped>\n",
       "    .dataframe tbody tr th:only-of-type {\n",
       "        vertical-align: middle;\n",
       "    }\n",
       "\n",
       "    .dataframe tbody tr th {\n",
       "        vertical-align: top;\n",
       "    }\n",
       "\n",
       "    .dataframe thead th {\n",
       "        text-align: right;\n",
       "    }\n",
       "</style>\n",
       "<table border=\"1\" class=\"dataframe\">\n",
       "  <thead>\n",
       "    <tr style=\"text-align: right;\">\n",
       "      <th></th>\n",
       "      <th>BOROUGH</th>\n",
       "      <th>SITE_STATUS</th>\n",
       "      <th>SITE_NAME</th>\n",
       "      <th>SITE_NUMBER</th>\n",
       "      <th>Entrance</th>\n",
       "      <th>lng</th>\n",
       "      <th>lat</th>\n",
       "      <th>Entrance_Type</th>\n",
       "      <th>All_Election_Districts</th>\n",
       "    </tr>\n",
       "  </thead>\n",
       "  <tbody>\n",
       "    <tr>\n",
       "      <th>0</th>\n",
       "      <td>NaN</td>\n",
       "      <td>A</td>\n",
       "      <td>PS 64 Pura Belpre</td>\n",
       "      <td>X0035</td>\n",
       "      <td>1425 Walton Avenue Bronx 10452</td>\n",
       "      <td>-73.915610</td>\n",
       "      <td>40.840293</td>\n",
       "      <td>Voter</td>\n",
       "      <td>[76, 15, 67, 16, 12, 14, 79, 13]</td>\n",
       "    </tr>\n",
       "    <tr>\n",
       "      <th>1</th>\n",
       "      <td>NaN</td>\n",
       "      <td>A</td>\n",
       "      <td>PS 64 Pura Belpre</td>\n",
       "      <td>X0035</td>\n",
       "      <td>1425 Walton Avenue Bronx 10452</td>\n",
       "      <td>-73.915610</td>\n",
       "      <td>40.840293</td>\n",
       "      <td>Handicap</td>\n",
       "      <td>[76, 15, 67, 16, 12, 14, 79, 13]</td>\n",
       "    </tr>\n",
       "    <tr>\n",
       "      <th>2</th>\n",
       "      <td>MANHATTAN</td>\n",
       "      <td>A</td>\n",
       "      <td>JHS 56</td>\n",
       "      <td>11592</td>\n",
       "      <td>220 Henry Street New York 10002</td>\n",
       "      <td>-73.986310</td>\n",
       "      <td>40.713604</td>\n",
       "      <td>Voter</td>\n",
       "      <td>[40, 83, 43, 41]</td>\n",
       "    </tr>\n",
       "    <tr>\n",
       "      <th>3</th>\n",
       "      <td>MANHATTAN</td>\n",
       "      <td>A</td>\n",
       "      <td>JHS 56</td>\n",
       "      <td>11592</td>\n",
       "      <td>Montgormey Street (NASA Space Double Doors) Ne...</td>\n",
       "      <td>-73.978241</td>\n",
       "      <td>40.756268</td>\n",
       "      <td>Handicap</td>\n",
       "      <td>[40, 83, 43, 41]</td>\n",
       "    </tr>\n",
       "    <tr>\n",
       "      <th>4</th>\n",
       "      <td>MANHATTAN</td>\n",
       "      <td>A</td>\n",
       "      <td>The River School/PS 281</td>\n",
       "      <td>11485</td>\n",
       "      <td>425 East 35 Street New York 10016</td>\n",
       "      <td>-73.972493</td>\n",
       "      <td>40.744335</td>\n",
       "      <td>Voter</td>\n",
       "      <td>[86, 84, 103, 95]</td>\n",
       "    </tr>\n",
       "    <tr>\n",
       "      <th>...</th>\n",
       "      <td>...</td>\n",
       "      <td>...</td>\n",
       "      <td>...</td>\n",
       "      <td>...</td>\n",
       "      <td>...</td>\n",
       "      <td>...</td>\n",
       "      <td>...</td>\n",
       "      <td>...</td>\n",
       "      <td>...</td>\n",
       "    </tr>\n",
       "    <tr>\n",
       "      <th>2457</th>\n",
       "      <td>BROOKLYN</td>\n",
       "      <td>A</td>\n",
       "      <td>Warbasse Houses Bldg 5C</td>\n",
       "      <td>B0274</td>\n",
       "      <td>West Avenue Brooklyn 11224</td>\n",
       "      <td>-73.972302</td>\n",
       "      <td>40.582739</td>\n",
       "      <td>Handicap</td>\n",
       "      <td>[26]</td>\n",
       "    </tr>\n",
       "    <tr>\n",
       "      <th>2458</th>\n",
       "      <td>BRONX</td>\n",
       "      <td>A</td>\n",
       "      <td>Pelham Pkwy Community Center</td>\n",
       "      <td>00036</td>\n",
       "      <td>785 Pelham Parkway North Bronx 10467</td>\n",
       "      <td>-73.863867</td>\n",
       "      <td>40.858142</td>\n",
       "      <td>Voter</td>\n",
       "      <td>[42]</td>\n",
       "    </tr>\n",
       "    <tr>\n",
       "      <th>2459</th>\n",
       "      <td>BRONX</td>\n",
       "      <td>A</td>\n",
       "      <td>Pelham Pkwy Community Center</td>\n",
       "      <td>00036</td>\n",
       "      <td>785 Pelham Parkway North - around playgound Br...</td>\n",
       "      <td>-73.863867</td>\n",
       "      <td>40.858142</td>\n",
       "      <td>Handicap</td>\n",
       "      <td>[42]</td>\n",
       "    </tr>\n",
       "    <tr>\n",
       "      <th>2460</th>\n",
       "      <td>STATEN IS</td>\n",
       "      <td>A</td>\n",
       "      <td>PS 20 Port Richmond</td>\n",
       "      <td>10574</td>\n",
       "      <td>161 Park Avenue Staten Island 10302</td>\n",
       "      <td>-74.132576</td>\n",
       "      <td>40.636739</td>\n",
       "      <td>Voter</td>\n",
       "      <td>[21, 23]</td>\n",
       "    </tr>\n",
       "    <tr>\n",
       "      <th>2461</th>\n",
       "      <td>STATEN IS</td>\n",
       "      <td>A</td>\n",
       "      <td>PS 20 Port Richmond</td>\n",
       "      <td>10574</td>\n",
       "      <td>To the right of the Main Entrance Staten Islan...</td>\n",
       "      <td>-74.140000</td>\n",
       "      <td>40.630000</td>\n",
       "      <td>Handicap</td>\n",
       "      <td>[21, 23]</td>\n",
       "    </tr>\n",
       "  </tbody>\n",
       "</table>\n",
       "<p>2462 rows × 9 columns</p>\n",
       "</div>"
      ],
      "text/plain": [
       "        BOROUGH SITE_STATUS                     SITE_NAME SITE_NUMBER  \\\n",
       "0           NaN           A             PS 64 Pura Belpre       X0035   \n",
       "1           NaN           A             PS 64 Pura Belpre       X0035   \n",
       "2     MANHATTAN           A                        JHS 56       11592   \n",
       "3     MANHATTAN           A                        JHS 56       11592   \n",
       "4     MANHATTAN           A       The River School/PS 281       11485   \n",
       "...         ...         ...                           ...         ...   \n",
       "2457   BROOKLYN           A       Warbasse Houses Bldg 5C       B0274   \n",
       "2458      BRONX           A  Pelham Pkwy Community Center       00036   \n",
       "2459      BRONX           A  Pelham Pkwy Community Center       00036   \n",
       "2460  STATEN IS           A           PS 20 Port Richmond       10574   \n",
       "2461  STATEN IS           A           PS 20 Port Richmond       10574   \n",
       "\n",
       "                                               Entrance        lng        lat  \\\n",
       "0                        1425 Walton Avenue Bronx 10452 -73.915610  40.840293   \n",
       "1                        1425 Walton Avenue Bronx 10452 -73.915610  40.840293   \n",
       "2                       220 Henry Street New York 10002 -73.986310  40.713604   \n",
       "3     Montgormey Street (NASA Space Double Doors) Ne... -73.978241  40.756268   \n",
       "4                     425 East 35 Street New York 10016 -73.972493  40.744335   \n",
       "...                                                 ...        ...        ...   \n",
       "2457                         West Avenue Brooklyn 11224 -73.972302  40.582739   \n",
       "2458               785 Pelham Parkway North Bronx 10467 -73.863867  40.858142   \n",
       "2459  785 Pelham Parkway North - around playgound Br... -73.863867  40.858142   \n",
       "2460                161 Park Avenue Staten Island 10302 -74.132576  40.636739   \n",
       "2461  To the right of the Main Entrance Staten Islan... -74.140000  40.630000   \n",
       "\n",
       "     Entrance_Type            All_Election_Districts  \n",
       "0            Voter  [76, 15, 67, 16, 12, 14, 79, 13]  \n",
       "1         Handicap  [76, 15, 67, 16, 12, 14, 79, 13]  \n",
       "2            Voter                  [40, 83, 43, 41]  \n",
       "3         Handicap                  [40, 83, 43, 41]  \n",
       "4            Voter                 [86, 84, 103, 95]  \n",
       "...            ...                               ...  \n",
       "2457      Handicap                              [26]  \n",
       "2458         Voter                              [42]  \n",
       "2459      Handicap                              [42]  \n",
       "2460         Voter                          [21, 23]  \n",
       "2461      Handicap                          [21, 23]  \n",
       "\n",
       "[2462 rows x 9 columns]"
      ]
     },
     "execution_count": 276,
     "metadata": {},
     "output_type": "execute_result"
    }
   ],
   "source": [
    "pollsites_new2[['BOROUGH', 'SITE_STATUS', 'SITE_NAME', 'SITE_NUMBER', 'Entrance', 'lng',\n",
    "       'lat', 'Entrance_Type', 'All_Election_Districts']]"
   ]
  },
  {
   "cell_type": "code",
   "execution_count": 240,
   "metadata": {},
   "outputs": [],
   "source": [
    "ed1 = ed.merge(ed_pollsite[['ED','SITE_NUMBER']],left_on='elect_dist_new',right_on='ED')"
   ]
  },
  {
   "cell_type": "code",
   "execution_count": null,
   "metadata": {},
   "outputs": [],
   "source": []
  }
 ],
 "metadata": {
  "kernelspec": {
   "display_name": "Python 3",
   "language": "python",
   "name": "python3"
  },
  "language_info": {
   "codemirror_mode": {
    "name": "ipython",
    "version": 3
   },
   "file_extension": ".py",
   "mimetype": "text/x-python",
   "name": "python",
   "nbconvert_exporter": "python",
   "pygments_lexer": "ipython3",
   "version": "3.7.8"
  }
 },
 "nbformat": 4,
 "nbformat_minor": 4
}
